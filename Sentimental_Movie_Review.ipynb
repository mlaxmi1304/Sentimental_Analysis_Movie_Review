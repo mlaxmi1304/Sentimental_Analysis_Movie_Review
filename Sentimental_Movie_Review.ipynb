{
 "cells": [
  {
   "cell_type": "markdown",
   "metadata": {},
   "source": [
    "## Movie Review Analysis"
   ]
  },
  {
   "cell_type": "markdown",
   "metadata": {},
   "source": [
    "### Importing Libraries"
   ]
  },
  {
   "cell_type": "code",
   "execution_count": 19,
   "metadata": {
    "colab": {
     "base_uri": "https://localhost:8080/"
    },
    "id": "viliK2vDna8-",
    "outputId": "628f6af3-1a82-45da-9eeb-146d70b21590"
   },
   "outputs": [
    {
     "name": "stderr",
     "output_type": "stream",
     "text": [
      "[nltk_data] Downloading package stopwords to\n",
      "[nltk_data]     C:\\Users\\amita\\AppData\\Roaming\\nltk_data...\n",
      "[nltk_data]   Package stopwords is already up-to-date!\n"
     ]
    },
    {
     "data": {
      "text/plain": [
       "True"
      ]
     },
     "execution_count": 19,
     "metadata": {},
     "output_type": "execute_result"
    }
   ],
   "source": [
    "import pandas as pd\n",
    "import nltk\n",
    "from nltk.stem.porter import PorterStemmer\n",
    "from nltk.corpus import stopwords\n",
    "nltk.download('stopwords')"
   ]
  },
  {
   "cell_type": "markdown",
   "metadata": {},
   "source": [
    "### Uploading the IMDB dataset"
   ]
  },
  {
   "cell_type": "code",
   "execution_count": 23,
   "metadata": {
    "id": "B9z_0UCsnr4D"
   },
   "outputs": [],
   "source": [
    "#df = pd.read_csv(r'C:\\Users\\amita\\Downloads\\IMDB-Dataset.csv')\n",
    "df = pd.read_csv('C:\\\\Users\\\\amita\\\\Downloads\\\\IMDB-Dataset.csv')\n",
    "df = df.sample(10000)\n",
    "df = df.reset_index(drop=True)\n",
    "#/content/IMDB-Dataset.csv\n",
    "#df = pd.read_csv('C:\\Users\\amita\\Downloads\\IMDB-Dataset.csv' ) #, delimiter=  '\\t' , quoting = 3)"
   ]
  },
  {
   "cell_type": "code",
   "execution_count": 24,
   "metadata": {
    "colab": {
     "base_uri": "https://localhost:8080/",
     "height": 206
    },
    "id": "37SH4SkIn0GT",
    "outputId": "d4ca3585-2dfc-4e4a-f49a-1c043647e229"
   },
   "outputs": [
    {
     "data": {
      "text/html": [
       "<div>\n",
       "<style scoped>\n",
       "    .dataframe tbody tr th:only-of-type {\n",
       "        vertical-align: middle;\n",
       "    }\n",
       "\n",
       "    .dataframe tbody tr th {\n",
       "        vertical-align: top;\n",
       "    }\n",
       "\n",
       "    .dataframe thead th {\n",
       "        text-align: right;\n",
       "    }\n",
       "</style>\n",
       "<table border=\"1\" class=\"dataframe\">\n",
       "  <thead>\n",
       "    <tr style=\"text-align: right;\">\n",
       "      <th></th>\n",
       "      <th>review</th>\n",
       "      <th>sentiment</th>\n",
       "    </tr>\n",
       "  </thead>\n",
       "  <tbody>\n",
       "    <tr>\n",
       "      <th>0</th>\n",
       "      <td>Also known in a different form as \"House of Ex...</td>\n",
       "      <td>negative</td>\n",
       "    </tr>\n",
       "    <tr>\n",
       "      <th>1</th>\n",
       "      <td>Dolemite may not have been the first black exp...</td>\n",
       "      <td>positive</td>\n",
       "    </tr>\n",
       "    <tr>\n",
       "      <th>2</th>\n",
       "      <td>***SPOILERS*** ***SPOILERS*** Well, seeing as ...</td>\n",
       "      <td>positive</td>\n",
       "    </tr>\n",
       "    <tr>\n",
       "      <th>3</th>\n",
       "      <td>10/10 for this film.&lt;br /&gt;&lt;br /&gt;i'm a british ...</td>\n",
       "      <td>positive</td>\n",
       "    </tr>\n",
       "    <tr>\n",
       "      <th>4</th>\n",
       "      <td>In Cold Blood was one of several 60s films tha...</td>\n",
       "      <td>negative</td>\n",
       "    </tr>\n",
       "  </tbody>\n",
       "</table>\n",
       "</div>"
      ],
      "text/plain": [
       "                                              review sentiment\n",
       "0  Also known in a different form as \"House of Ex...  negative\n",
       "1  Dolemite may not have been the first black exp...  positive\n",
       "2  ***SPOILERS*** ***SPOILERS*** Well, seeing as ...  positive\n",
       "3  10/10 for this film.<br /><br />i'm a british ...  positive\n",
       "4  In Cold Blood was one of several 60s films tha...  negative"
      ]
     },
     "execution_count": 24,
     "metadata": {},
     "output_type": "execute_result"
    }
   ],
   "source": [
    "df.head()"
   ]
  },
  {
   "cell_type": "code",
   "execution_count": 25,
   "metadata": {
    "colab": {
     "base_uri": "https://localhost:8080/"
    },
    "id": "KX0sGl0En3KW",
    "outputId": "a7e382c5-cc52-4dd7-fd21-a7bf13490e37"
   },
   "outputs": [
    {
     "data": {
      "text/plain": [
       "Index(['review', 'sentiment'], dtype='object')"
      ]
     },
     "execution_count": 25,
     "metadata": {},
     "output_type": "execute_result"
    }
   ],
   "source": [
    "df.columns"
   ]
  },
  {
   "cell_type": "markdown",
   "metadata": {},
   "source": [
    "## Label Encoding:\n",
    "### To convert 'positive' = 1 and 'negative' = 0."
   ]
  },
  {
   "cell_type": "code",
   "execution_count": 26,
   "metadata": {
    "id": "FGHYrYf_n489"
   },
   "outputs": [],
   "source": [
    "from sklearn.preprocessing import LabelEncoder\n",
    "label = LabelEncoder()\n",
    "df[\"sentiment\"] = label.fit_transform(df['sentiment'])"
   ]
  },
  {
   "cell_type": "code",
   "execution_count": 31,
   "metadata": {
    "colab": {
     "base_uri": "https://localhost:8080/",
     "height": 206
    },
    "id": "xEe11Wzmn7y1",
    "outputId": "2ae46323-137f-466d-8b4b-32758dce3482"
   },
   "outputs": [
    {
     "data": {
      "text/html": [
       "<div>\n",
       "<style scoped>\n",
       "    .dataframe tbody tr th:only-of-type {\n",
       "        vertical-align: middle;\n",
       "    }\n",
       "\n",
       "    .dataframe tbody tr th {\n",
       "        vertical-align: top;\n",
       "    }\n",
       "\n",
       "    .dataframe thead th {\n",
       "        text-align: right;\n",
       "    }\n",
       "</style>\n",
       "<table border=\"1\" class=\"dataframe\">\n",
       "  <thead>\n",
       "    <tr style=\"text-align: right;\">\n",
       "      <th></th>\n",
       "      <th>review</th>\n",
       "      <th>sentiment</th>\n",
       "    </tr>\n",
       "  </thead>\n",
       "  <tbody>\n",
       "    <tr>\n",
       "      <th>0</th>\n",
       "      <td>Also known in a different form as \"House of Ex...</td>\n",
       "      <td>0</td>\n",
       "    </tr>\n",
       "    <tr>\n",
       "      <th>1</th>\n",
       "      <td>Dolemite may not have been the first black exp...</td>\n",
       "      <td>1</td>\n",
       "    </tr>\n",
       "    <tr>\n",
       "      <th>2</th>\n",
       "      <td>***SPOILERS*** ***SPOILERS*** Well, seeing as ...</td>\n",
       "      <td>1</td>\n",
       "    </tr>\n",
       "    <tr>\n",
       "      <th>3</th>\n",
       "      <td>10/10 for this film.&lt;br /&gt;&lt;br /&gt;i'm a british ...</td>\n",
       "      <td>1</td>\n",
       "    </tr>\n",
       "    <tr>\n",
       "      <th>4</th>\n",
       "      <td>In Cold Blood was one of several 60s films tha...</td>\n",
       "      <td>0</td>\n",
       "    </tr>\n",
       "  </tbody>\n",
       "</table>\n",
       "</div>"
      ],
      "text/plain": [
       "                                              review  sentiment\n",
       "0  Also known in a different form as \"House of Ex...          0\n",
       "1  Dolemite may not have been the first black exp...          1\n",
       "2  ***SPOILERS*** ***SPOILERS*** Well, seeing as ...          1\n",
       "3  10/10 for this film.<br /><br />i'm a british ...          1\n",
       "4  In Cold Blood was one of several 60s films tha...          0"
      ]
     },
     "execution_count": 31,
     "metadata": {},
     "output_type": "execute_result"
    }
   ],
   "source": [
    "df.head()"
   ]
  },
  {
   "cell_type": "code",
   "execution_count": 33,
   "metadata": {
    "colab": {
     "base_uri": "https://localhost:8080/",
     "height": 140
    },
    "id": "FSC3H_hRn9AT",
    "outputId": "f99d2ac3-720d-4a5a-ff77-b1cfec18a5a3"
   },
   "outputs": [
    {
     "data": {
      "text/plain": [
       "'Also known in a different form as \"House of Exorcism,\" this messy<br /><br />little film takes itself so seriously as to kill any entertainment value<br /><br />whatsoever.<br /><br />The spare plot involves European tourist Elke Sommer who has a<br /><br />chance run in with Telly Savalas, who looks just like the devil she<br /><br />saw on a fresco in the square. Sommer is given a ride to a<br /><br />mysterious house in the country, where Savalas happens to be<br /><br />butler. There, she is mistaken for a long dead woman, and the real<br /><br />soap opera theatrics begin. The house\\'s blind matriarch\\'s<br /><br />husband had an affair with the dead woman, who was the<br /><br />matriarch\\'s son\\'s fiancee. The couple who gave Sommer the ride?<br /><br />Well, the woman is giving the chauffeur, uh, \"back seat driving<br /><br />lessons,\" and the husband knows and does not care. Eventually,<br /><br />most of the cast is killed, Sommer is drugged and raped,<br /><br />escapes, and the viewer is taken to a climax on board an empty<br /><br />airplane...which must have resembled the empty theaters this<br /><br />thing played in.<br /><br />The alternate version of this, \"House of Exorcism,\" has scenes<br /><br />added involving a priest.<br /><br />The VHS copy of this, from Elite Entertainment, is crystal clear and<br /><br />letterboxed. There are \"extras\" after the end credits; deleted sex<br /><br />and gore scenes.<br /><br />Mario Bava\\'s direction is fast and furious, but his screenplay is<br /><br />awful. There are half baked ideas, abandoned plotlines, and<br /><br />stunning conveniences that do nothing more than propel this thing<br /><br />in some sort of forward direction. You have life like dummies for<br /><br />practice funerals, the blind matriarch does not act all that blind,<br /><br />and Savalas is given the same lollipops he had in \"Kojak,\" (who<br /><br />haunts ya, baby?).<br /><br />The project seems like they had two name stars, then wrote the<br /><br />script quickly, something that happens in Hollywood on a daily<br /><br />occurrence now. Savalas looks completely lost, delivering his<br /><br />lines haltingly, and wishing his character had not died in \"The Dirty<br /><br />Dozen.\" Sommer runs around and screams and gasps a lot, but<br /><br />her character is a blank, I use the term \"character\" loosely. The<br /><br />only thing we know about her is her name.<br /><br />This is a real weird film, and your reaction to it might depend on<br /><br />how heavily you are into Eurohorror, and Kojak. I for one cannot<br /><br />recomment \"Lisa and the Devil.\"<br /><br />This is unrated, and including all the extras at the end of the VHS<br /><br />copy, contains strong physical violence, sexual violence, strong<br /><br />gore, strong female nudity, male nudity, sexual content, and adult<br /><br />situations'"
      ]
     },
     "execution_count": 33,
     "metadata": {},
     "output_type": "execute_result"
    }
   ],
   "source": [
    "df[\"review\"][0]"
   ]
  },
  {
   "cell_type": "markdown",
   "metadata": {
    "id": "8deK7AA444VH"
   },
   "source": [
    "### Removing HTML tags"
   ]
  },
  {
   "cell_type": "code",
   "execution_count": 35,
   "metadata": {
    "colab": {
     "base_uri": "https://localhost:8080/",
     "height": 122
    },
    "id": "zDI3ZBNv466Y",
    "outputId": "43430295-9d6c-4f0b-bbf0-383badb7e456"
   },
   "outputs": [
    {
     "data": {
      "text/plain": [
       "'***SPOILERS*** ***SPOILERS*** Well, seeing as I am a major H:LOTS fan, maybe I liked the movie more than normal people would. However, this movie is still excellent. It had tons of surprises, and it gave some more closure to the series. While I was sad that Bayliss turned into a murderer, the overall feeling I felt was satisfied.'"
      ]
     },
     "execution_count": 35,
     "metadata": {},
     "output_type": "execute_result"
    }
   ],
   "source": [
    "import re\n",
    "clean = re.compile('<.*?>')\n",
    "re.sub(clean, '' , df.iloc[2].review)"
   ]
  },
  {
   "cell_type": "code",
   "execution_count": 37,
   "metadata": {
    "colab": {
     "base_uri": "https://localhost:8080/"
    },
    "id": "6oF_MQdWn-3m",
    "outputId": "5e040e1c-55ce-4ba2-b51b-79c150e345d1"
   },
   "outputs": [
    {
     "data": {
      "text/plain": [
       "0"
      ]
     },
     "execution_count": 37,
     "metadata": {},
     "output_type": "execute_result"
    }
   ],
   "source": [
    "df['sentiment'][0]"
   ]
  },
  {
   "cell_type": "code",
   "execution_count": 39,
   "metadata": {
    "colab": {
     "base_uri": "https://localhost:8080/"
    },
    "id": "ccP5FVagrmPM",
    "outputId": "aadb267e-4548-4f82-9e93-1e0e59e8bc41"
   },
   "outputs": [
    {
     "name": "stdout",
     "output_type": "stream",
     "text": [
      "<class 'pandas.core.frame.DataFrame'>\n",
      "RangeIndex: 10000 entries, 0 to 9999\n",
      "Data columns (total 2 columns):\n",
      " #   Column     Non-Null Count  Dtype \n",
      "---  ------     --------------  ----- \n",
      " 0   review     10000 non-null  object\n",
      " 1   sentiment  10000 non-null  int32 \n",
      "dtypes: int32(1), object(1)\n",
      "memory usage: 117.3+ KB\n"
     ]
    }
   ],
   "source": [
    "df.info()"
   ]
  },
  {
   "cell_type": "code",
   "execution_count": 41,
   "metadata": {
    "colab": {
     "base_uri": "https://localhost:8080/"
    },
    "id": "6mvFk7Ybrpz7",
    "outputId": "9e3db799-3fce-4f9e-be62-35e7c24a22f8"
   },
   "outputs": [
    {
     "data": {
      "text/plain": [
       "Index(['review', 'sentiment'], dtype='object')"
      ]
     },
     "execution_count": 41,
     "metadata": {},
     "output_type": "execute_result"
    }
   ],
   "source": [
    "df.columns"
   ]
  },
  {
   "cell_type": "code",
   "execution_count": 43,
   "metadata": {
    "colab": {
     "base_uri": "https://localhost:8080/"
    },
    "id": "5N5fL_v6r0zp",
    "outputId": "64ed1bf9-d5ac-485f-dba4-d14198e57183"
   },
   "outputs": [
    {
     "data": {
      "text/plain": [
       "(10000, 2)"
      ]
     },
     "execution_count": 43,
     "metadata": {},
     "output_type": "execute_result"
    }
   ],
   "source": [
    "df.shape"
   ]
  },
  {
   "cell_type": "markdown",
   "metadata": {
    "id": "p2GAB26Qr5BA"
   },
   "source": [
    "## Cleaning the dataset"
   ]
  },
  {
   "cell_type": "code",
   "execution_count": 46,
   "metadata": {
    "id": "zcRD8fInr4L5"
   },
   "outputs": [],
   "source": [
    "import string\n",
    "import re\n",
    "corpus = []\n",
    "for i in range (10000):\n",
    "    #Removing punctuation marks and numbers\n",
    "    Review = re.sub(pattern ='[^a-zA-Z]' , repl = ' ' , string = df['review'][i])\n",
    "    #Converting into lowercase\n",
    "    Review = Review.lower()\n",
    "    #Tokenization using split()\n",
    "    review_word = Review.split()\n",
    "    #Removal of stopwords\n",
    "    review_word =  [word for word in review_word if not word in set(stopwords.words('english'))]\n",
    "    #Stemming\n",
    "    ps = PorterStemmer()\n",
    "    review1 =  [ps.stem(word) for word in review_word]\n",
    "    Review= ' '.join(review1)\n",
    "    corpus.append(Review)"
   ]
  },
  {
   "cell_type": "code",
   "execution_count": 63,
   "metadata": {
    "colab": {
     "base_uri": "https://localhost:8080/",
     "height": 87
    },
    "id": "8G1Q1lEPr9N9",
    "outputId": "c87bd001-fb1a-4b06-c73d-fee4ba0f9f9c"
   },
   "outputs": [
    {
     "data": {
      "text/plain": [
       "'also known differ form hous exorc messi br br littl film take serious kill entertain valu br br whatsoev br br spare plot involv european tourist elk sommer br br chanc run telli savala look like devil br br saw fresco squar sommer given ride br br mysteri hous countri savala happen br br butler mistaken long dead woman real br br soap opera theatric begin hous blind matriarch br br husband affair dead woman br br matriarch son fiance coupl gave sommer ride br br well woman give chauffeur uh back seat drive br br lesson husband know care eventu br br cast kill sommer drug rape br br escap viewer taken climax board empti br br airplan must resembl empti theater br br thing play br br altern version hous exorc scene br br ad involv priest br br vh copi elit entertain crystal clear br br letterbox extra end credit delet sex br br gore scene br br mario bava direct fast furiou screenplay br br aw half bake idea abandon plotlin br br stun conveni noth propel thing br br sort forward direct life like dummi br br practic funer blind matriarch act blind br br savala given lollipop kojak br br haunt ya babi br br project seem like two name star wrote br br script quickli someth happen hollywood daili br br occurr savala look complet lost deliv br br line haltingli wish charact die dirti br br dozen sommer run around scream gasp lot br br charact blank use term charact loos br br thing know name br br real weird film reaction might depend br br heavili eurohorror kojak one cannot br br recom lisa devil br br unrat includ extra end vh br br copi contain strong physic violenc sexual violenc strong br br gore strong femal nuditi male nuditi sexual content adult br br situat'"
      ]
     },
     "execution_count": 63,
     "metadata": {},
     "output_type": "execute_result"
    }
   ],
   "source": [
    "corpus[0]"
   ]
  },
  {
   "cell_type": "markdown",
   "metadata": {
    "id": "YJU5w0wpzuu8"
   },
   "source": [
    "## Vectorization: TfidfVectorizer"
   ]
  },
  {
   "cell_type": "code",
   "execution_count": 66,
   "metadata": {
    "id": "TECP4VH2zyhG"
   },
   "outputs": [],
   "source": [
    "from sklearn.feature_extraction.text import TfidfVectorizer\n",
    "cv = TfidfVectorizer(max_features=5000)\n",
    "X = cv.fit_transform(corpus).toarray()"
   ]
  },
  {
   "cell_type": "code",
   "execution_count": 67,
   "metadata": {
    "colab": {
     "base_uri": "https://localhost:8080/"
    },
    "id": "ER0GSmLv2aPB",
    "outputId": "616b15e1-9fd3-4afa-cdf5-74bd212e6f31"
   },
   "outputs": [
    {
     "data": {
      "text/plain": [
       "(10000, 5000)"
      ]
     },
     "execution_count": 67,
     "metadata": {},
     "output_type": "execute_result"
    }
   ],
   "source": [
    "X.shape"
   ]
  },
  {
   "cell_type": "code",
   "execution_count": 68,
   "metadata": {
    "id": "x-ntJ7Mr21_w"
   },
   "outputs": [],
   "source": [
    "y = df.iloc[:,-1].values"
   ]
  },
  {
   "cell_type": "markdown",
   "metadata": {
    "id": "hvpFJxSn2l64"
   },
   "source": [
    "## Train - Test Split"
   ]
  },
  {
   "cell_type": "code",
   "execution_count": 72,
   "metadata": {
    "id": "jbA7lurR2lSg"
   },
   "outputs": [],
   "source": [
    "from sklearn.model_selection import train_test_split\n",
    "from sklearn.metrics import confusion_matrix, accuracy_score"
   ]
  },
  {
   "cell_type": "code",
   "execution_count": 73,
   "metadata": {
    "id": "6DbZSFRd2q20"
   },
   "outputs": [],
   "source": [
    "X_train,X_test,y_train,y_test = train_test_split(X,y,test_size = 0.2 , random_state = 104)"
   ]
  },
  {
   "cell_type": "markdown",
   "metadata": {
    "id": "raZJ7rG92xRu"
   },
   "source": [
    "## Naive Bayes"
   ]
  },
  {
   "cell_type": "code",
   "execution_count": 77,
   "metadata": {
    "id": "BBFKAJm0263b"
   },
   "outputs": [
    {
     "name": "stdout",
     "output_type": "stream",
     "text": [
      "Gaussian NB  0.744\n",
      "[[779 218]\n",
      " [294 709]]\n",
      "Multinomail NB  0.85\n",
      "[[837 160]\n",
      " [140 863]]\n",
      "Bernoulli NB  0.845\n",
      "[[847 150]\n",
      " [160 843]]\n"
     ]
    }
   ],
   "source": [
    "from sklearn.naive_bayes import GaussianNB , MultinomialNB , BernoulliNB\n",
    "\n",
    "#Training GaussainNB\n",
    "clf1 = GaussianNB()\n",
    "clf1.fit(X_train , y_train)\n",
    "y_pred_GNB = clf1.predict(X_test)\n",
    "\n",
    "#Training MultinomialNB\n",
    "clf2 = MultinomialNB()\n",
    "clf2.fit(X_train,y_train)\n",
    "y_pred_MNB = clf2.predict(X_test)\n",
    "\n",
    "#Training  BernoulliNB\n",
    "clf3 = BernoulliNB()\n",
    "clf3.fit(X_train , y_train)\n",
    "y_pred_BNB = clf3.predict(X_test)\n",
    "\n",
    "# Accuracy Score and confusion matrix: Gaussian Naive Bayes \n",
    "print(\"Gaussian NB \" , accuracy_score(y_test,y_pred_GNB))\n",
    "cm_GNB = confusion_matrix(y_test,y_pred_GNB)\n",
    "print(cm_GNB)\n",
    "\n",
    "# Accuracy Score and confusion matrix: Multinommial Naive Bayes \n",
    "print(\"Multinomail NB \", accuracy_score(y_test,y_pred_MNB))\n",
    "cm_MNB = confusion_matrix(y_test , y_pred_MNB)\n",
    "print(cm_MNB)\n",
    "\n",
    "# Accuracy Score and confusion matrix: Bernoulli Naive Bayes\n",
    "print(\"Bernoulli NB \",accuracy_score(y_test,y_pred_BNB))\n",
    "cm_BNB = confusion_matrix (y_test , y_pred_BNB)\n",
    "print(cm_BNB)"
   ]
  },
  {
   "cell_type": "markdown",
   "metadata": {
    "id": "zty1SOcD3oRj"
   },
   "source": [
    "## Random Forest"
   ]
  },
  {
   "cell_type": "code",
   "execution_count": 78,
   "metadata": {
    "colab": {
     "base_uri": "https://localhost:8080/"
    },
    "id": "3Ht0s-Y13p8w",
    "outputId": "d4f9d632-a90a-4abf-aac9-2c7342fdc16b"
   },
   "outputs": [
    {
     "name": "stdout",
     "output_type": "stream",
     "text": [
      "RadomForestClassifier  0.8415\n",
      "[[841 156]\n",
      " [161 842]]\n"
     ]
    }
   ],
   "source": [
    "from sklearn.ensemble import RandomForestClassifier\n",
    "from sklearn.metrics import accuracy_score\n",
    "\n",
    "rf = RandomForestClassifier()\n",
    "rf.fit(X_train,y_train)\n",
    "y_pred_RF = rf.predict(X_test)\n",
    "\n",
    "# Accuracy Score and confusion matrix: Random Forest\n",
    "print(\"RadomForestClassifier \",accuracy_score(y_test , y_pred_RF ))\n",
    "cm_RandomForest = confusion_matrix(y_test , y_pred_RF)\n",
    "print(cm_RandomForest)"
   ]
  },
  {
   "cell_type": "markdown",
   "metadata": {
    "id": "nTar0geX36zL"
   },
   "source": [
    "## Logistic Regression"
   ]
  },
  {
   "cell_type": "code",
   "execution_count": 80,
   "metadata": {
    "id": "LCbpjNSy3uAW"
   },
   "outputs": [
    {
     "name": "stdout",
     "output_type": "stream",
     "text": [
      "Logistic Regression  0.8665\n",
      "[[843 154]\n",
      " [113 890]]\n"
     ]
    }
   ],
   "source": [
    "from sklearn.linear_model import LogisticRegression\n",
    "\n",
    "model = LogisticRegression(max_iter = 1000)\n",
    "model.fit(X_train , y_train )\n",
    "y_pred_LogisticReg  = model.predict(X_test)\n",
    "\n",
    "# Accuracy Score and confusion matrix: Logistic Regression\n",
    "print(\"Logistic Regression \" , accuracy_score (y_test, y_pred_LogisticReg))\n",
    "cm_logisticReg = confusion_matrix(y_test , y_pred_LogisticReg)\n",
    "print(cm_logisticReg)"
   ]
  },
  {
   "cell_type": "markdown",
   "metadata": {},
   "source": [
    "### Comparing performance"
   ]
  },
  {
   "cell_type": "code",
   "execution_count": 83,
   "metadata": {
    "id": "bDE9R_MI4Br6"
   },
   "outputs": [
    {
     "name": "stdout",
     "output_type": "stream",
     "text": [
      "Comparision between different algorithms: \n",
      "Gaussian NB  0.744\n",
      "Multinomail NB  0.85\n",
      "Bernoulli NB  0.845\n",
      "RadomForestClassifier  0.8415\n",
      "Logistic Regression  0.8665\n"
     ]
    }
   ],
   "source": [
    "print(\"Comparision between different algorithms: \")\n",
    "print(\"Gaussian NB \" , accuracy_score(y_test,y_pred_GNB))\n",
    "print(\"Multinomail NB \", accuracy_score(y_test,y_pred_MNB))\n",
    "print(\"Bernoulli NB \",accuracy_score(y_test,y_pred_BNB))\n",
    "print(\"RadomForestClassifier \",accuracy_score(y_test , y_pred_RF ))\n",
    "print(\"Logistic Regression \",accuracy_score(y_test , y_pred_LogisticReg))"
   ]
  }
 ],
 "metadata": {
  "colab": {
   "provenance": []
  },
  "kernelspec": {
   "display_name": "Python [conda env:base] *",
   "language": "python",
   "name": "conda-base-py"
  },
  "language_info": {
   "codemirror_mode": {
    "name": "ipython",
    "version": 3
   },
   "file_extension": ".py",
   "mimetype": "text/x-python",
   "name": "python",
   "nbconvert_exporter": "python",
   "pygments_lexer": "ipython3",
   "version": "3.12.7"
  }
 },
 "nbformat": 4,
 "nbformat_minor": 4
}
